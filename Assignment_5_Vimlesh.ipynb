{
 "cells": [
  {
   "attachments": {},
   "cell_type": "markdown",
   "metadata": {},
   "source": [
    "#### 1. What does an empty dictionary's code look like?\n",
    "\n",
    "**Ans:** An empty pair of curly braces make an empty dictionary which doesnt have either keys or values."
   ]
  },
  {
   "cell_type": "code",
   "execution_count": 1,
   "metadata": {},
   "outputs": [
    {
     "data": {
      "text/plain": [
       "dict"
      ]
     },
     "execution_count": 1,
     "metadata": {},
     "output_type": "execute_result"
    }
   ],
   "source": [
    "dictionary = {}\n",
    "type(dictionary)"
   ]
  },
  {
   "attachments": {},
   "cell_type": "markdown",
   "metadata": {},
   "source": [
    "#### 2. What is the value of a dictionary value with the key 'foo' and the value 42?"
   ]
  },
  {
   "cell_type": "code",
   "execution_count": 2,
   "metadata": {},
   "outputs": [
    {
     "name": "stdout",
     "output_type": "stream",
     "text": [
      "{'foo': 42}\n"
     ]
    },
    {
     "data": {
      "text/plain": [
       "dict_values([42])"
      ]
     },
     "execution_count": 2,
     "metadata": {},
     "output_type": "execute_result"
    }
   ],
   "source": [
    "dictionary = {\"foo\": 42}\n",
    "print(dictionary)\n",
    "dictionary.values()"
   ]
  },
  {
   "attachments": {},
   "cell_type": "markdown",
   "metadata": {},
   "source": [
    "#### 3. What is the most significant distinction between a dictionary and a list?\n",
    "\n",
    "**Ans:**  Lists are ordered that is why the elements are accessed via indices whereas dictionaries are unordered and elements are accessed via key-values."
   ]
  },
  {
   "attachments": {},
   "cell_type": "markdown",
   "metadata": {},
   "source": [
    "#### 4. What happens if you try to access spam['foo'] if spam is {'bar': 100}?"
   ]
  },
  {
   "cell_type": "code",
   "execution_count": 3,
   "metadata": {},
   "outputs": [
    {
     "ename": "KeyError",
     "evalue": "'foo'",
     "output_type": "error",
     "traceback": [
      "\u001b[1;31m---------------------------------------------------------------------------\u001b[0m",
      "\u001b[1;31mKeyError\u001b[0m                                  Traceback (most recent call last)",
      "\u001b[1;32mc:\\Users\\Admin\\Desktop\\ineuron assignments\\Assignment_5_simmi.ipynb Cell 8\u001b[0m in \u001b[0;36m<cell line: 2>\u001b[1;34m()\u001b[0m\n\u001b[0;32m      <a href='vscode-notebook-cell:/c%3A/Users/Admin/Desktop/ineuron%20assignments/Assignment_5_simmi.ipynb#W0sZmlsZQ%3D%3D?line=0'>1</a>\u001b[0m spam \u001b[39m=\u001b[39m {\u001b[39m'\u001b[39m\u001b[39mbar\u001b[39m\u001b[39m'\u001b[39m: \u001b[39m100\u001b[39m}\n\u001b[1;32m----> <a href='vscode-notebook-cell:/c%3A/Users/Admin/Desktop/ineuron%20assignments/Assignment_5_simmi.ipynb#W0sZmlsZQ%3D%3D?line=1'>2</a>\u001b[0m spam[\u001b[39m'\u001b[39;49m\u001b[39mfoo\u001b[39;49m\u001b[39m'\u001b[39;49m]\n",
      "\u001b[1;31mKeyError\u001b[0m: 'foo'"
     ]
    }
   ],
   "source": [
    "spam = {'bar': 100}\n",
    "spam['foo']"
   ]
  },
  {
   "attachments": {},
   "cell_type": "markdown",
   "metadata": {},
   "source": [
    "#### 5. If a dictionary is stored in spam, what is the difference between the expressions 'cat' in spam and 'cat' in spam.keys()?\n",
    "\n",
    "**Ans:** There is no such difference . The operator checks whether a value exists as a key in the dictionary or not."
   ]
  },
  {
   "attachments": {},
   "cell_type": "markdown",
   "metadata": {},
   "source": [
    "#### 6. If a dictionary is stored in spam, what is the difference between the expressions 'cat' in spam and 'cat' in spam.values()?\n",
    "\n",
    "**Ans:** 'cat' in spam checks whether there is a 'cat' key in the dictionary, while 'cat' in spam.values() checks whether there is a value 'cat' for one of the keys in spam."
   ]
  },
  {
   "attachments": {},
   "cell_type": "markdown",
   "metadata": {},
   "source": [
    "#### 7. What is a shortcut for the following code?\n",
    "\n",
    "`if 'color' not in spam:\n",
    "spam['color'] = 'black'`\n",
    "\n",
    "**Ans:** `spam.setdefault('color','black')`"
   ]
  },
  {
   "attachments": {},
   "cell_type": "markdown",
   "metadata": {},
   "source": [
    "#### 8. How do you \"pretty print\" dictionary values using which module and function?\n",
    "\n",
    "**Ans:** we can pretty print a dictionary using three functions\n",
    "1. by using pprint() function of pprint module\n",
    "    * **Note:** pprint() function doesnot prettify nested dictionaries\n",
    "2. by using dumps() method of json module\n",
    "3. by using dumps() method of yaml module\n"
   ]
  },
  {
   "cell_type": "code",
   "execution_count": 2,
   "metadata": {},
   "outputs": [
    {
     "name": "stdout",
     "output_type": "stream",
     "text": [
      "Printing using print() function\n",
      " [{'Name': 'Vimlesh', 'Age': '35', 'Residence': {'Country': 'INDIA', 'City': 'DELHI'}}, {'Name': 'Dwiz', 'Age': '05', 'Residence': {'Country': 'UP', 'City': 'ALLAHABAD'}}, {'Name': 'Pooja', 'Age': '29', 'Residence': {'Country': 'MH', 'City': 'MUMBAI'}}, {'Name': 'Priti', 'Age': '25', 'Residence': {'Country': 'Japan', 'City': 'Osaka'}}]\n",
      "----------------------------------------------------------------------\n",
      "Printing using pprint() funciton\n",
      "[{'Age': '35',\n",
      "  'Name': 'Vimlesh',\n",
      "  'Residence': {'City': 'DELHI', 'Country': 'INDIA'}},\n",
      " {'Age': '05',\n",
      "  'Name': 'Dwiz',\n",
      "  'Residence': {'City': 'ALLAHABAD', 'Country': 'UP'}},\n",
      " {'Age': '29',\n",
      "  'Name': 'Pooja',\n",
      "  'Residence': {'City': 'MUMBAI', 'Country': 'MH'}},\n",
      " {'Age': '25',\n",
      "  'Name': 'Priti',\n",
      "  'Residence': {'City': 'Osaka', 'Country': 'Japan'}}]\n",
      "----------------------------------------------------------------------\n",
      "Printing using dumps() method\n",
      " [\n",
      "    {\n",
      "        \"Name\": \"Vimlesh\",\n",
      "        \"Age\": \"35\",\n",
      "        \"Residence\": {\n",
      "            \"Country\": \"INDIA\",\n",
      "            \"City\": \"DELHI\"\n",
      "        }\n",
      "    },\n",
      "    {\n",
      "        \"Name\": \"Dwiz\",\n",
      "        \"Age\": \"05\",\n",
      "        \"Residence\": {\n",
      "            \"Country\": \"UP\",\n",
      "            \"City\": \"ALLAHABAD\"\n",
      "        }\n",
      "    },\n",
      "    {\n",
      "        \"Name\": \"Pooja\",\n",
      "        \"Age\": \"29\",\n",
      "        \"Residence\": {\n",
      "            \"Country\": \"MH\",\n",
      "            \"City\": \"MUMBAI\"\n",
      "        }\n",
      "    },\n",
      "    {\n",
      "        \"Name\": \"Priti\",\n",
      "        \"Age\": \"25\",\n",
      "        \"Residence\": {\n",
      "            \"Country\": \"Japan\",\n",
      "            \"City\": \"Osaka\"\n",
      "        }\n",
      "    }\n",
      "]\n",
      "----------------------------------------------------------------------\n"
     ]
    },
    {
     "ename": "ModuleNotFoundError",
     "evalue": "No module named 'yaml'",
     "output_type": "error",
     "traceback": [
      "\u001b[1;31m---------------------------------------------------------------------------\u001b[0m",
      "\u001b[1;31mModuleNotFoundError\u001b[0m                       Traceback (most recent call last)",
      "Cell \u001b[1;32mIn[2], line 18\u001b[0m\n\u001b[0;32m     16\u001b[0m \u001b[39mprint\u001b[39m(\u001b[39m'\u001b[39m\u001b[39mPrinting using dumps() method\u001b[39m\u001b[39m\\n\u001b[39;00m\u001b[39m'\u001b[39m, dump)\n\u001b[0;32m     17\u001b[0m \u001b[39mprint\u001b[39m(\u001b[39m'\u001b[39m\u001b[39m-\u001b[39m\u001b[39m'\u001b[39m\u001b[39m*\u001b[39m\u001b[39m70\u001b[39m)\n\u001b[1;32m---> 18\u001b[0m \u001b[39mimport\u001b[39;00m \u001b[39myaml\u001b[39;00m\n\u001b[0;32m     19\u001b[0m dump \u001b[39m=\u001b[39m yaml\u001b[39m.\u001b[39mdump(ndict)\n\u001b[0;32m     20\u001b[0m \u001b[39mprint\u001b[39m(\u001b[39m'\u001b[39m\u001b[39mPrinting using dump() method\u001b[39m\u001b[39m\\n\u001b[39;00m\u001b[39m'\u001b[39m, dump)\n",
      "\u001b[1;31mModuleNotFoundError\u001b[0m: No module named 'yaml'"
     ]
    }
   ],
   "source": [
    "ndict = [\n",
    "  {'Name': 'Vimlesh', 'Age': '35', 'Residence': {'Country':'INDIA', 'City': 'DELHI'}},\n",
    "  {'Name': 'Dwiz', 'Age': '05', 'Residence': {'Country':'UP', 'City': 'ALLAHABAD'}},\n",
    "  {'Name': 'Pooja', 'Age': '29', 'Residence': {'Country':'MH', 'City': 'MUMBAI'}},\n",
    "  {'Name': 'Priti', 'Age': '25', 'Residence': {'Country':'Japan', 'City': 'Osaka'}}\n",
    "]\n",
    "\n",
    "print('Printing using print() function\\n',ndict)\n",
    "print('-'*70)\n",
    "import pprint\n",
    "print('Printing using pprint() funciton')\n",
    "pprint.pprint(ndict)\n",
    "print('-'*70)\n",
    "import json\n",
    "dump = json.dumps(ndict, indent=4)\n",
    "print('Printing using dumps() method\\n', dump)\n",
    "print('-'*70)\n",
    "import yaml\n",
    "dump = yaml.dump(ndict)\n",
    "print('Printing using dump() method\\n', dump)\n"
   ]
  },
  {
   "cell_type": "code",
   "execution_count": null,
   "metadata": {},
   "outputs": [],
   "source": [
    "                                               # ASSISGNMENT 5 COMPLETED #"
   ]
  }
 ],
 "metadata": {
  "kernelspec": {
   "display_name": "Python 3 (ipykernel)",
   "language": "python",
   "name": "python3"
  },
  "language_info": {
   "codemirror_mode": {
    "name": "ipython",
    "version": 3
   },
   "file_extension": ".py",
   "mimetype": "text/x-python",
   "name": "python",
   "nbconvert_exporter": "python",
   "pygments_lexer": "ipython3",
   "version": "3.11.3"
  }
 },
 "nbformat": 4,
 "nbformat_minor": 2
}
